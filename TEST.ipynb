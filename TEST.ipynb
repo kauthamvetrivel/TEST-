{
 "cells": [
  {
   "cell_type": "markdown",
   "id": "adc8cae5",
   "metadata": {},
   "source": [
    "<h1>Question 1 </h2>"
   ]
  },
  {
   "cell_type": "code",
   "execution_count": 2,
   "id": "400d558a",
   "metadata": {},
   "outputs": [
    {
     "name": "stdout",
     "output_type": "stream",
     "text": [
      "The Total Probability is : 0.01656862745098039\n"
     ]
    }
   ],
   "source": [
    "pa = 13/52\n",
    "pb = 13/51 \n",
    "pc = 13/50\n",
    "p = pa*pb*pc\n",
    "print(\"The Total Probability is :\",p)"
   ]
  },
  {
   "cell_type": "markdown",
   "id": "be331671",
   "metadata": {},
   "source": [
    "<h1>Question 2</h2>"
   ]
  },
  {
   "cell_type": "markdown",
   "id": "c059afb4",
   "metadata": {},
   "source": [
    "P(a) = probability of action movies = 42/100\n",
    "P(c) = probability of comedy movies = 54/100\n",
    "P(d) = probability of drama movies = 36/100\n",
    "P(h) = probability of horror movies = 12/100\n",
    "P(A) = probability of either action or drama\n",
    "P(B) = probability of either comedy or horror"
   ]
  },
  {
   "cell_type": "code",
   "execution_count": 4,
   "id": "7ec1483c",
   "metadata": {},
   "outputs": [
    {
     "name": "stdout",
     "output_type": "stream",
     "text": [
      "Probability of either action or drama : 0.78\n",
      "Probability of either comedy or horror : 0.66\n"
     ]
    }
   ],
   "source": [
    "Pa=42/100\n",
    "Pc=54/100\n",
    "Pd=36/100\n",
    "Ph=12/100\n",
    "PA=Pa+Pd\n",
    "PB=Pc+Ph\n",
    "print(\"Probability of either action or drama :\",PA)\n",
    "print(\"Probability of either comedy or horror :\",PB)"
   ]
  },
  {
   "cell_type": "markdown",
   "id": "860e38e9",
   "metadata": {},
   "source": [
    "<h1>Question 3</h2>"
   ]
  },
  {
   "cell_type": "code",
   "execution_count": 23,
   "id": "e1521712",
   "metadata": {},
   "outputs": [
    {
     "name": "stdout",
     "output_type": "stream",
     "text": [
      "The probability of bag B selected: 0.5045045045045046\n"
     ]
    }
   ],
   "source": [
    "PA=PB=1/2  #prob of bagA,bagB\n",
    "PC=5/8   #prob of bb from bagA \n",
    "PD=7/11  #prob of bb from bagB\n",
    "\n",
    "PE=(PB*PD)/((PA*PC)+(PB*PD))\n",
    "print(\"The probability of bag B selected:\",PE)"
   ]
  },
  {
   "cell_type": "markdown",
   "id": "02347f6f",
   "metadata": {},
   "source": [
    "<H1>Question 4</H2>"
   ]
  },
  {
   "cell_type": "markdown",
   "id": "df72f18f",
   "metadata": {},
   "source": [
    "Given: 450 application in 1 hour\n",
    "    -By poisson distribution\n",
    "    a.)Receiving 10 application in 1 minute\n",
    "         λ = 450/60\n",
    "        \n",
    "         λ = 15/2 , x=10\n",
    "            \n",
    "        P(X = x) = e**(-15/2) . (15/2)**10\n",
    "                   -----------------------\n",
    "                             10\n",
    "                 = 0.0858\n",
    "    \n",
    "    \n",
    "    \n",
    "    a.)Receiving atleast 17 application in 2 minute\n",
    "      \n",
    "            \n",
    "        P(X = x) = e**(-15/2) . (15/2)**17\n",
    "                   -----------------------\n",
    "                             17\n",
    "                 = 0.6321\n",
    "                    "
   ]
  },
  {
   "cell_type": "markdown",
   "id": "52d3679b",
   "metadata": {},
   "source": [
    "<h1>Question 6</h2>"
   ]
  },
  {
   "cell_type": "markdown",
   "id": "2902116a",
   "metadata": {},
   "source": [
    "z=(x-µ)/σ \n",
    "\n",
    "0.675=(x-350870)/12405 \n",
    "\n",
    "x=350870 + (0.675*12405) \n",
    "\n",
    "x=359237.045 \n",
    "\n",
    "75th percentile = 359237.045"
   ]
  },
  {
   "cell_type": "markdown",
   "id": "6caf986b",
   "metadata": {},
   "source": [
    "<h1>Question 7</h2>"
   ]
  },
  {
   "cell_type": "code",
   "execution_count": 28,
   "id": "4d95b604",
   "metadata": {},
   "outputs": [
    {
     "name": "stdout",
     "output_type": "stream",
     "text": [
      "F-STATISTIC is  : 0.9921235138705414\n"
     ]
    }
   ],
   "source": [
    "UC=[44,21,36,34,77,32,29,39,92,67,45,37]\n",
    "MV=[47,81,41,79,38,20,33,83,41,40,69,36]\n",
    "import numpy as np\n",
    "x = np.array(UC)\n",
    "y = np.array(MV)\n",
    "f = np.var(x, ddof=1)/np.var(y, ddof=1)\n",
    "print(\"F-STATISTIC is  :\",f)"
   ]
  },
  {
   "cell_type": "markdown",
   "id": "128e97ea",
   "metadata": {},
   "source": [
    "<h1>Question 9</h2>"
   ]
  },
  {
   "cell_type": "code",
   "execution_count": 25,
   "id": "a0178709",
   "metadata": {},
   "outputs": [],
   "source": [
    "from scipy.stats import poisson "
   ]
  },
  {
   "cell_type": "code",
   "execution_count": 26,
   "id": "da9b0cf5",
   "metadata": {},
   "outputs": [],
   "source": [
    "P=poisson.pmf(k=80,mu=76)\n"
   ]
  },
  {
   "cell_type": "code",
   "execution_count": 27,
   "id": "d3cde16d",
   "metadata": {},
   "outputs": [
    {
     "name": "stdout",
     "output_type": "stream",
     "text": [
      "0.040177141568228006\n"
     ]
    }
   ],
   "source": [
    "print(P)"
   ]
  },
  {
   "cell_type": "code",
   "execution_count": null,
   "id": "3775600d",
   "metadata": {},
   "outputs": [],
   "source": []
  }
 ],
 "metadata": {
  "kernelspec": {
   "display_name": "Python 3 (ipykernel)",
   "language": "python",
   "name": "python3"
  },
  "language_info": {
   "codemirror_mode": {
    "name": "ipython",
    "version": 3
   },
   "file_extension": ".py",
   "mimetype": "text/x-python",
   "name": "python",
   "nbconvert_exporter": "python",
   "pygments_lexer": "ipython3",
   "version": "3.9.7"
  }
 },
 "nbformat": 4,
 "nbformat_minor": 5
}
